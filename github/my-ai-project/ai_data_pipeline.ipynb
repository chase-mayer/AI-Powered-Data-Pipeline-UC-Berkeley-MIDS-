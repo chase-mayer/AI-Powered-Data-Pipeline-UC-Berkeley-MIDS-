{
 "cells": [
  {
   "cell_type": "code",
   "execution_count": 4,
   "id": "f55b471b",
   "metadata": {
    "vscode": {
     "languageId": "plaintext"
    }
   },
   "outputs": [
    {
     "data": {
      "text/html": [
       "<div>\n",
       "<style scoped>\n",
       "    .dataframe tbody tr th:only-of-type {\n",
       "        vertical-align: middle;\n",
       "    }\n",
       "\n",
       "    .dataframe tbody tr th {\n",
       "        vertical-align: top;\n",
       "    }\n",
       "\n",
       "    .dataframe thead th {\n",
       "        text-align: right;\n",
       "    }\n",
       "</style>\n",
       "<table border=\"1\" class=\"dataframe\">\n",
       "  <thead>\n",
       "    <tr style=\"text-align: right;\">\n",
       "      <th></th>\n",
       "      <th>timestamp</th>\n",
       "      <th>temperature</th>\n",
       "      <th>vibration</th>\n",
       "      <th>voltage</th>\n",
       "      <th>temp_rollmean_24h</th>\n",
       "      <th>vibe_rollstd_24h</th>\n",
       "    </tr>\n",
       "  </thead>\n",
       "  <tbody>\n",
       "    <tr>\n",
       "      <th>0</th>\n",
       "      <td>2025-01-01 00:00:00</td>\n",
       "      <td>76.523585</td>\n",
       "      <td>0.495408</td>\n",
       "      <td>3.275879</td>\n",
       "      <td>76.523585</td>\n",
       "      <td>NaN</td>\n",
       "    </tr>\n",
       "    <tr>\n",
       "      <th>1</th>\n",
       "      <td>2025-01-01 01:00:00</td>\n",
       "      <td>69.802081</td>\n",
       "      <td>0.414964</td>\n",
       "      <td>3.271904</td>\n",
       "      <td>73.162833</td>\n",
       "      <td>0.056882</td>\n",
       "    </tr>\n",
       "    <tr>\n",
       "      <th>2</th>\n",
       "      <td>2025-01-01 02:00:00</td>\n",
       "      <td>78.756260</td>\n",
       "      <td>0.464354</td>\n",
       "      <td>3.317944</td>\n",
       "      <td>75.027309</td>\n",
       "      <td>0.040569</td>\n",
       "    </tr>\n",
       "    <tr>\n",
       "      <th>3</th>\n",
       "      <td>2025-01-01 03:00:00</td>\n",
       "      <td>79.708830</td>\n",
       "      <td>0.571098</td>\n",
       "      <td>3.307884</td>\n",
       "      <td>76.197689</td>\n",
       "      <td>0.065432</td>\n",
       "    </tr>\n",
       "    <tr>\n",
       "      <th>4</th>\n",
       "      <td>2025-01-01 04:00:00</td>\n",
       "      <td>65.252832</td>\n",
       "      <td>0.479094</td>\n",
       "      <td>3.239508</td>\n",
       "      <td>74.008718</td>\n",
       "      <td>0.056761</td>\n",
       "    </tr>\n",
       "  </tbody>\n",
       "</table>\n",
       "</div>"
      ],
      "text/plain": [
       "            timestamp  temperature  vibration   voltage  temp_rollmean_24h  \\\n",
       "0 2025-01-01 00:00:00    76.523585   0.495408  3.275879          76.523585   \n",
       "1 2025-01-01 01:00:00    69.802081   0.414964  3.271904          73.162833   \n",
       "2 2025-01-01 02:00:00    78.756260   0.464354  3.317944          75.027309   \n",
       "3 2025-01-01 03:00:00    79.708830   0.571098  3.307884          76.197689   \n",
       "4 2025-01-01 04:00:00    65.252832   0.479094  3.239508          74.008718   \n",
       "\n",
       "   vibe_rollstd_24h  \n",
       "0               NaN  \n",
       "1          0.056882  \n",
       "2          0.040569  \n",
       "3          0.065432  \n",
       "4          0.056761  "
      ]
     },
     "execution_count": 4,
     "metadata": {},
     "output_type": "execute_result"
    }
   ],
   "source": [
    "# notebooks/ai_data_pipeline.ipynb (first cell)\n",
    "import pandas as pd\n",
    "import matplotlib.pyplot as plt\n",
    "\n",
    "df = pd.read_csv(\"data/sensors_clean.csv\", parse_dates=[\"timestamp\"])\n",
    "df.head()\n"
   ]
  },
  {
   "cell_type": "code",
   "execution_count": null,
   "id": "021ce4fa-a44b-4cff-85d8-f47cf2f9421e",
   "metadata": {},
   "outputs": [],
   "source": []
  },
  {
   "cell_type": "code",
   "execution_count": null,
   "id": "7d1c6f06-acab-4a1b-8e5a-86aa8d5d85e6",
   "metadata": {},
   "outputs": [],
   "source": []
  },
  {
   "cell_type": "code",
   "execution_count": null,
   "id": "5f3df435-b8f6-4adc-bd27-edfa69d8d005",
   "metadata": {},
   "outputs": [],
   "source": []
  }
 ],
 "metadata": {
  "kernelspec": {
   "display_name": "Python 3 (ipykernel)",
   "language": "python",
   "name": "python3"
  },
  "language_info": {
   "codemirror_mode": {
    "name": "ipython",
    "version": 3
   },
   "file_extension": ".py",
   "mimetype": "text/x-python",
   "name": "python",
   "nbconvert_exporter": "python",
   "pygments_lexer": "ipython3",
   "version": "3.12.4"
  }
 },
 "nbformat": 4,
 "nbformat_minor": 5
}
